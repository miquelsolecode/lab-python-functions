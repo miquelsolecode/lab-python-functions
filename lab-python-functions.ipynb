{
 "cells": [
  {
   "cell_type": "markdown",
   "id": "25d7736c-ba17-4aff-b6bb-66eba20fbf4e",
   "metadata": {},
   "source": [
    "# Lab | Functions"
   ]
  },
  {
   "cell_type": "markdown",
   "id": "0c581062-8967-4d93-b06e-62833222f930",
   "metadata": {
    "tags": []
   },
   "source": [
    "\n",
    "## Exercise: Managing Customer Orders with Functions\n",
    "\n",
    "In the previous exercise, you improved the code for managing customer orders by using loops and flow control. Now, let's take it a step further and refactor the code by introducing functions.\n",
    "\n",
    "Follow the steps below to complete the exercise:\n",
    "\n",
    "1. Define a function named `initialize_inventory` that takes `products` as a parameter. Inside the function, implement the code for initializing the inventory dictionary using a loop and user input.\n",
    "\n",
    "2. Define a function named `get_customer_orders` that takes no parameters. Inside the function, implement the code for prompting the user to enter the product names using a loop. The function should return the `customer_orders` set.\n",
    "\n",
    "3. Define a function named `update_inventory` that takes `customer_orders` and `inventory` as parameters. Inside the function, implement the code for updating the inventory dictionary based on the customer orders.\n",
    "\n",
    "4. Define a function named `calculate_order_statistics` that takes `customer_orders` and `products` as parameters. Inside the function, implement the code for calculating the order statistics (total products ordered, and percentage of unique products ordered). The function should return these values.\n",
    "\n",
    "5. Define a function named `print_order_statistics` that takes `order_statistics` as a parameter. Inside the function, implement the code for printing the order statistics.\n",
    "\n",
    "6. Define a function named `print_updated_inventory` that takes `inventory` as a parameter. Inside the function, implement the code for printing the updated inventory.\n",
    "\n",
    "7. Call the functions in the appropriate sequence to execute the program and manage customer orders.\n",
    "\n",
    "Hints for functions:\n",
    "\n",
    "- Consider the input parameters required for each function and their return values.\n",
    "- Utilize function parameters and return values to transfer data between functions.\n",
    "- Test your functions individually to ensure they work correctly.\n",
    "\n",
    "\n"
   ]
  },
  {
   "cell_type": "code",
   "execution_count": null,
   "id": "6eb028ee-846a-4286-aa6f-dfc3e5c3916d",
   "metadata": {},
   "outputs": [],
   "source": [
    "\n",
    "products = [\"t-shirt\", \"mug\", \"hat\", \"book\", \"keychain\"]"
   ]
  },
  {
   "cell_type": "markdown",
   "id": "4fe1330c-b7ca-4236-b913-719cd679c14b",
   "metadata": {},
   "source": []
  },
  {
   "cell_type": "code",
   "execution_count": null,
   "id": "2d57300a-2fe7-4030-a202-98ac90c59ef5",
   "metadata": {},
   "outputs": [],
   "source": [
    "#step 1\n",
    "def initialize_inventory(products : list) -> dict:\n",
    "    '''\n",
    "    This function is gonna ask the user to input the number\n",
    "    of items of each kind that are in the inventory\n",
    "\n",
    "    arguments:\n",
    "        list: the function will iterate through the list of products available\n",
    "\n",
    "    returns:\n",
    "        list: the complete inventory at the moment of the input\n",
    "    '''\n",
    "\n",
    "    inventory = {}\n",
    "\n",
    "    \n",
    "    for product in products:\n",
    "        quantity = int(input(f\"How many {product}\"))\n",
    "        inventory[product] = quantity\n",
    "    return inventory\n",
    "\n"
   ]
  },
  {
   "cell_type": "code",
   "execution_count": null,
   "id": "1ee4ad94-ff1e-4f19-a5cd-8f378c445e39",
   "metadata": {},
   "outputs": [],
   "source": [
    "#step 2\n",
    "def get_customer_orders():\n",
    "    \n",
    "    \n",
    "\n",
    "    customer_order = set()\n",
    "    other_product = \"yes\"  #flagging: otorgar un valor por defecto a una variable\n",
    "    \n",
    "    while other_product != \"yes\":\n",
    "        order_product = input(\"Enter the name of a product that a customer wants to order: \")\n",
    "        if order_product in products:\n",
    "            customer_order.add(order_product)\n",
    "            \n",
    "        else:\n",
    "            print(\"insert a valid order\")\n",
    "        other_product = input(\"Do you want to add another product?:\")\n",
    "        \n",
    "\n",
    "    return(customer_order)             \n"
   ]
  },
  {
   "cell_type": "code",
   "execution_count": null,
   "id": "dab1e1b5-3584-4509-9ea3-6d9aeccd694f",
   "metadata": {},
   "outputs": [],
   "source": [
    "#step 3\n",
    "def update_inventory(customer_order : set, inventory : dict):\n",
    "    \n",
    "    for product in customer_order:\n",
    "        if inventory[product] < 1:\n",
    "            print(\"There is no more stock available\")\n",
    "        else:\n",
    "            inventory[product] -= 1\n",
    "            \n",
    "    return inventory\n",
    "        #the Inventory actualises itself since it's a collection, but as a rule of thumb, we should always use return (return inventory)"
   ]
  },
  {
   "cell_type": "code",
   "execution_count": null,
   "id": "ebc933ff-bafe-4c11-b4de-e978a066eb90",
   "metadata": {},
   "outputs": [],
   "source": [
    "#step 4\n",
    "\n",
    "def calculate_order_statistics(customer_order, products):\n",
    "    # Tipo de dato de entrada \n",
    "    total_order = len(customer_order)\n",
    "    percentage = (total_order/len(products))*100\n",
    "\n",
    "    return total_order, percentage\n",
    "\n",
    "\n",
    "                    "
   ]
  },
  {
   "cell_type": "code",
   "execution_count": null,
   "id": "6679e157-7607-476f-a7eb-fe9d78ddebb7",
   "metadata": {},
   "outputs": [],
   "source": [
    "#step 5\n",
    "def print_order_statistics(order_statistics):\n",
    "    print(f\"La orden total es {order_statistics[0]} y su porcentage sobre el total es {order_statistics[1]}\")\n",
    "    "
   ]
  },
  {
   "cell_type": "code",
   "execution_count": null,
   "id": "6e9ed05b-a8f0-4813-8b45-8ff74a7d101e",
   "metadata": {},
   "outputs": [],
   "source": [
    "#step 6\n",
    "def print_updated_inventory(inventory):\n",
    "    print(inventory) #imprime el inventario actualizado"
   ]
  },
  {
   "cell_type": "code",
   "execution_count": null,
   "id": "d4ab7a4d-1a18-41c2-93c0-2a8ab1903915",
   "metadata": {},
   "outputs": [],
   "source": [
    "#step 7                                 "
   ]
  },
  {
   "cell_type": "code",
   "execution_count": 152,
   "id": "f7e00acc-38e2-49ec-a49e-82f78d8cfdd4",
   "metadata": {},
   "outputs": [],
   "source": [
    "inventory = initialize_inventory(products)"
   ]
  },
  {
   "cell_type": "code",
   "execution_count": 153,
   "id": "ae63f709-cf11-4c21-9c8d-6cf1dfc5514f",
   "metadata": {},
   "outputs": [],
   "source": [
    "customer_order = get_customer_orders()"
   ]
  },
  {
   "cell_type": "code",
   "execution_count": 154,
   "id": "8c44a82a-f441-4f55-ba33-3d64c76d2dd2",
   "metadata": {},
   "outputs": [],
   "source": [
    "updated_inventory = update_inventory(customer_order, inventory)\n"
   ]
  },
  {
   "cell_type": "code",
   "execution_count": 155,
   "id": "ffc190a7-f9e1-44a7-930c-64191e6ca916",
   "metadata": {},
   "outputs": [],
   "source": [
    "total_order, percentage = calculate_order_statistics(customer_order, products)"
   ]
  },
  {
   "cell_type": "code",
   "execution_count": 156,
   "id": "7e44a1e2",
   "metadata": {},
   "outputs": [],
   "source": [
    "order_statistics = calculate_order_statistics(customer_order, products)\n",
    "\n",
    "#En caso de tener una funcion con \"n\" parametros de output, si lo guardo en una variable, tendre una tuple con eses \"n parametros de output\""
   ]
  },
  {
   "cell_type": "code",
   "execution_count": 157,
   "id": "2e3b3ec0-43bb-4c80-8f9d-7fb09efb87aa",
   "metadata": {},
   "outputs": [
    {
     "name": "stdout",
     "output_type": "stream",
     "text": [
      "La orden total es 2 y su porcentage sobre el total es 40.0\n"
     ]
    }
   ],
   "source": [
    "print_order_statistics(order_statistics)"
   ]
  },
  {
   "cell_type": "code",
   "execution_count": 158,
   "id": "32a3a625-47bd-4e89-a3db-cd5ba8014804",
   "metadata": {},
   "outputs": [
    {
     "name": "stdout",
     "output_type": "stream",
     "text": [
      "{'t-shirt': 5, 'mug': 5, 'hat': 4, 'book': 4, 'keychain': 5}\n"
     ]
    }
   ],
   "source": [
    "print_updated_inventory(updated_inventory)"
   ]
  }
 ],
 "metadata": {
  "kernelspec": {
   "display_name": "Python 3 (ipykernel)",
   "language": "python",
   "name": "python3"
  },
  "language_info": {
   "codemirror_mode": {
    "name": "ipython",
    "version": 3
   },
   "file_extension": ".py",
   "mimetype": "text/x-python",
   "name": "python",
   "nbconvert_exporter": "python",
   "pygments_lexer": "ipython3",
   "version": "3.11.7"
  }
 },
 "nbformat": 4,
 "nbformat_minor": 5
}
